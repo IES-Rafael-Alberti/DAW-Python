{
 "cells": [
  {
   "cell_type": "markdown",
   "metadata": {},
   "source": [
    "# Funciones predefinidas"
   ]
  },
  {
   "cell_type": "markdown",
   "metadata": {},
   "source": [
    "### Conversiones"
   ]
  },
  {
   "cell_type": "code",
   "execution_count": 1,
   "metadata": {},
   "outputs": [],
   "source": [
    "edad = 25\n",
    "nombre = \"Menganito\""
   ]
  },
  {
   "cell_type": "markdown",
   "metadata": {},
   "source": [
    "Quiero concatenar nombre y edad"
   ]
  },
  {
   "cell_type": "code",
   "execution_count": 2,
   "metadata": {},
   "outputs": [
    {
     "ename": "TypeError",
     "evalue": "can only concatenate str (not \"int\") to str",
     "output_type": "error",
     "traceback": [
      "\u001b[0;31m---------------------------------------------------------------------------\u001b[0m",
      "\u001b[0;31mTypeError\u001b[0m                                 Traceback (most recent call last)",
      "\u001b[0;32m<ipython-input-2-617a3246ef5d>\u001b[0m in \u001b[0;36m<module>\u001b[0;34m\u001b[0m\n\u001b[1;32m      1\u001b[0m \u001b[0;31m# Esto falla\u001b[0m\u001b[0;34m\u001b[0m\u001b[0;34m\u001b[0m\u001b[0;34m\u001b[0m\u001b[0m\n\u001b[0;32m----> 2\u001b[0;31m \u001b[0mcadena\u001b[0m \u001b[0;34m=\u001b[0m \u001b[0mnombre\u001b[0m \u001b[0;34m+\u001b[0m \u001b[0;34m\" tiene \"\u001b[0m \u001b[0;34m+\u001b[0m \u001b[0medad\u001b[0m \u001b[0;34m+\u001b[0m \u001b[0;34m\" años\"\u001b[0m\u001b[0;34m\u001b[0m\u001b[0;34m\u001b[0m\u001b[0m\n\u001b[0m",
      "\u001b[0;31mTypeError\u001b[0m: can only concatenate str (not \"int\") to str"
     ]
    }
   ],
   "source": [
    "# Esto falla\n",
    "cadena = nombre + \" tiene \" + edad + \" años\""
   ]
  },
  {
   "cell_type": "code",
   "execution_count": 3,
   "metadata": {},
   "outputs": [],
   "source": [
    "# Esto no falla\n",
    "cadena = nombre + \" tiene \" + str(edad) + \" años\""
   ]
  },
  {
   "cell_type": "code",
   "execution_count": 4,
   "metadata": {},
   "outputs": [
    {
     "name": "stdout",
     "output_type": "stream",
     "text": [
      "Menganito tiene 25 años\n"
     ]
    }
   ],
   "source": [
    "print(cadena)"
   ]
  },
  {
   "cell_type": "markdown",
   "metadata": {},
   "source": [
    "### Redondeos"
   ]
  },
  {
   "cell_type": "code",
   "execution_count": 7,
   "metadata": {},
   "outputs": [
    {
     "name": "stdout",
     "output_type": "stream",
     "text": [
      "Dame un número con decimales: 5.6754\n"
     ]
    }
   ],
   "source": [
    "x = input(\"Dame un número con decimales: \") # devuelve str\n",
    "x = float(x) # convierto str a float"
   ]
  },
  {
   "cell_type": "code",
   "execution_count": 8,
   "metadata": {
    "scrolled": true
   },
   "outputs": [
    {
     "name": "stdout",
     "output_type": "stream",
     "text": [
      "5.6754 redondeado a entero.......: 6\n",
      "5.6754 redondeado a un decimal...: 5.7\n",
      "5.6754 redondeado a dos decimales: 5.68\n"
     ]
    }
   ],
   "source": [
    "print(x, \"redondeado a entero.......:\", round(x))\n",
    "print(x, \"redondeado a un decimal...:\", round(x, 1))\n",
    "print(x, \"redondeado a dos decimales:\", round(x, 2))"
   ]
  },
  {
   "cell_type": "markdown",
   "metadata": {},
   "source": [
    "## Módulos\n",
    "\n",
    "Python también proporciona funciones que no están directamente disponibles, pertenecen a módulos que deben ser importados."
   ]
  },
  {
   "cell_type": "code",
   "execution_count": 11,
   "metadata": {},
   "outputs": [],
   "source": [
    "from math import floor, ceil, sqrt\n",
    "# from math import *"
   ]
  },
  {
   "cell_type": "code",
   "execution_count": 9,
   "metadata": {},
   "outputs": [],
   "source": [
    "x = 5.324567891234"
   ]
  },
  {
   "cell_type": "code",
   "execution_count": 12,
   "metadata": {},
   "outputs": [
    {
     "name": "stdout",
     "output_type": "stream",
     "text": [
      "Redondeo hacia abajo de 5.324567891234 es 5\n",
      "Redondeo hacia arriba de 5.324567891234 es 6\n",
      "La raíz cuadrada de 5.324567891234 es 2.3075025224761947\n"
     ]
    }
   ],
   "source": [
    "print(\"Redondeo hacia abajo de\", x, \"es\", floor(x))\n",
    "print(\"Redondeo hacia arriba de\", x, \"es\", ceil(x))\n",
    "print(\"La raíz cuadrada de\", x, \"es\", sqrt(x))"
   ]
  },
  {
   "cell_type": "markdown",
   "metadata": {},
   "source": [
    "Otra forma de usar módulos"
   ]
  },
  {
   "cell_type": "code",
   "execution_count": 13,
   "metadata": {},
   "outputs": [
    {
     "name": "stdout",
     "output_type": "stream",
     "text": [
      "3^2 es 9.0 y e^3 es 20.085536923187668\n",
      "3^2 es 9.0 y e^3 es 20.085536923187668\n"
     ]
    }
   ],
   "source": [
    "import math\n",
    "\n",
    "# ponemos el nombre del módulo delante de la función\n",
    "x = 3\n",
    "x2 = math.pow(x, 2)\n",
    "ex = math.exp(x)\n",
    "\n",
    "# salida usando cadenas f\n",
    "print(f\"{x}^2 es {x2} y e^{x} es {ex}\")\n",
    "# escribe lo mismo\n",
    "print(f\"{x}^2 es {math.pow(x,2)} y e^{x} es {math.exp(x)}\")"
   ]
  },
  {
   "cell_type": "markdown",
   "metadata": {},
   "source": [
    "## Métodos"
   ]
  },
  {
   "cell_type": "code",
   "execution_count": null,
   "metadata": {},
   "outputs": [],
   "source": [
    "nombre = \"Fulanito de Copas\"\n",
    "print(nombre, \"en mayúsculas:\", nombre.upper())\n",
    "print(nombre, \"en minúsculas:\", nombre.lower())"
   ]
  },
  {
   "cell_type": "code",
   "execution_count": null,
   "metadata": {},
   "outputs": [],
   "source": []
  }
 ],
 "metadata": {
  "kernelspec": {
   "display_name": "Python 3",
   "language": "python",
   "name": "python3"
  },
  "language_info": {
   "codemirror_mode": {
    "name": "ipython",
    "version": 3
   },
   "file_extension": ".py",
   "mimetype": "text/x-python",
   "name": "python",
   "nbconvert_exporter": "python",
   "pygments_lexer": "ipython3",
   "version": "3.8.3"
  }
 },
 "nbformat": 4,
 "nbformat_minor": 2
}
